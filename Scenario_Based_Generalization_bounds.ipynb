{
 "cells": [
  {
   "cell_type": "code",
   "execution_count": 1,
   "metadata": {},
   "outputs": [],
   "source": [
    "import scipy as syp\n",
    "import scipy.special\n",
    "import numpy as np "
   ]
  },
  {
   "cell_type": "code",
   "execution_count": 2,
   "metadata": {},
   "outputs": [],
   "source": [
    "def getConfidence_nonconvex(k,N,beta): \n",
    " # k= Number of support scenarios\n",
    " # N= Number of scenarios in the dataset\n",
    " # beta= s small confidence parameter (beta=10^-8 means high confidence level) \n",
    "    if k == N:\n",
    "        epsilon=1\n",
    "    elif k < N:\n",
    "    #  this is numerically  for high N and k\n",
    "    #   epsilon=1-(beta./(N.*nchoosek(N,k))).^(1/(N-k));\n",
    "    #  This expansion is slower but guarantees stability (and numerical accuracy)\n",
    "        E = (beta*k/N**2)**(1/(N-k))  \n",
    "        for l in range(k-1):\n",
    "            Temp = (1/((N-l)/(k-l)))**(1/(N-k))\n",
    "            E = E*Temp    \n",
    "            epsilon = 1-E \n",
    "    elif k > N:\n",
    "        print('ERROR: numbber of support constraints k should be k<=N') \n",
    "    return epsilon\n",
    "\n",
    "# EXAMPLE HOW TO USE\n",
    "#N=10**5 # number of samples \n",
    "#sn=300 # number of support constraints\n",
    "#beta=10**-8 # confidence parameter (small beta means almost cerainty)\n",
    "#getConfidence_nonconvex(sn,N,beta)"
   ]
  },
  {
   "cell_type": "code",
   "execution_count": 21,
   "metadata": {},
   "outputs": [
    {
     "name": "stdout",
     "output_type": "stream",
     "text": [
      "[0.6309844763295013, 0.6894254477459933]\n"
     ]
    }
   ],
   "source": [
    "def getConfidence_relaxedConstraints(k,N,bet): \n",
    " # Compute lower and upper bounds on the probability of violation  for future scenarios\n",
    " # k = Number of support scenarios (scenarios delta_i for which the optimal design d* leads to a violation g(d*,delta_i)>=0 )\n",
    " # N = Number of scenarios in the dataset used to compute the optimal design d*\n",
    " # beta = a small confidence parameter (beta=10^-8 means high confidence level)\n",
    "    alphaL = syp.special.betaincinv(k,N-k+1,bet)\n",
    "    alphaU = 1- syp.special.betaincinv(N-k+1,k,bet) \n",
    "    Temp=np.log(range(k,N+1))\n",
    "    Temp[0]=0\n",
    "    #Temp=np.sort(Temp)[::-1]\n",
    "    CUMSUM=np.cumsum(np.sort(Temp)[::-1])\n",
    "    CUMSUM[-1]=0\n",
    "    aux1=np.sort(CUMSUM)[::-1]# auxiliary variables 1\n",
    "    # auxiliary variables 2 \n",
    "    Temp=np.log(range(1,N+2-k))\n",
    "    Temp[-1]=0\n",
    "    #Temp=np.sort(Temp)[::-1]\n",
    "    CUMSUM=np.cumsum(np.sort(Temp)[::-1])\n",
    "    CUMSUM[-1]=0\n",
    "    aux2=np.sort(CUMSUM)[::-1] \n",
    "    Temp=np.log(range(N+1,4*N+1)) \n",
    "    Temp=np.sort(Temp)  \n",
    "    aux3=np.sort(np.cumsum(Temp))  # auxiliary variables 3 \n",
    "    Temp=np.log(range(N+1,4*N+1) ) \n",
    "    Temp=np.sort(Temp)  \n",
    "    aux3=np.sort(np.cumsum(Temp))  \n",
    "    Temp=np.log(range(N+1-k,4*N+1-k)) \n",
    "    Temp=np.sort(Temp)  \n",
    "    aux4=np.sort(np.cumsum(Temp))  # auxiliary variables 4 \n",
    "    coeffs1 = aux2-aux1 \n",
    "    coeffs2= aux3-aux4 \n",
    "    t1 = 1-alphaL \n",
    "    t2 = 1   \n",
    "    M1=np.sort(range(0,N-k+1))[::-1]\n",
    "    M2=range(1,3*N+1)\n",
    "    poly1 = 1+bet/(2*N)-bet/(2*N)*np.sum(np.exp(coeffs1-M1*np.log(t1))) -bet/(6*N)*np.sum(np.exp(coeffs2 +M2*np.log(t1))) \n",
    "    poly2 = 1+bet/(2*N)-bet/(2*N)*np.sum(np.exp(coeffs1-M1*np.log(t2))) -bet/(6*N)*np.sum(np.exp(coeffs2 +M2*np.log(t2)))\n",
    "    # Now it calculates the lower and upper bounds\n",
    "    if ((poly1*poly2) > 0):\n",
    "        epsL = 0;\n",
    "    else:\n",
    "        while t2-t1 > 1e-10:\n",
    "            t = (t1+t2)/2;\n",
    "            polyt = 1+bet/(2*N)-bet/(2*N)*np.sum(np.exp(coeffs1 - M1*np.log(t)))  -bet/(6*N)*np.sum(np.exp(coeffs2 + M2*np.log(t)))  \n",
    "            if polyt > 0:\n",
    "                t1=t\n",
    "            else:\n",
    "                t2=t \n",
    "        epsL = 1-t2\n",
    "    t1 = 0\n",
    "    t2 = 1-alphaU\n",
    "    poly2 = 1+bet/(2*N)-bet/(2*N)*np.sum(np.exp(coeffs1-M1*np.log(t2))) -bet/(6*N)*np.sum(np.exp(coeffs2 + M2*np.log(t2))) \n",
    "\n",
    "    while t2-t1 > 1e-10:\n",
    "            t = (t1+t2)/2  \n",
    "            polyt = 1+bet/(2*N)-bet/(2*N)*np.sum(np.exp(coeffs1 - M1*np.log(t)))  -bet/(6*N)*np.sum(np.exp(coeffs2 + M2*np.log(t)))\n",
    "            if polyt > 0:\n",
    "                t2=t\n",
    "            else:\n",
    "                t1=t  \n",
    "            epsU = 1-t1\n",
    "    #epsilon=(epsL,epsU) # resulting lower and upper bound on the violation probability\n",
    "    return (epsL,epsU)\n",
    "\n",
    "# EXAMPLE HOW TO USE\n",
    "beta=10**-6 \n",
    "N=10000\n",
    "k=6610\n",
    "Out1 , Out2 = getConfidence_relaxedConstraints(k,N,beta)\n",
    "print([Out1,Out2])"
   ]
  },
  {
   "cell_type": "code",
   "execution_count": 19,
   "metadata": {},
   "outputs": [
    {
     "data": {
      "image/png": "[encoded data removed]",
      "text/plain": [
       "<Figure size 432x288 with 1 Axes>"
      ]
     },
     "metadata": {
      "needs_background": "light"
     },
     "output_type": "display_data"
    }
   ],
   "source": [
    "import matplotlib.pyplot as plt \n",
    "beta=10**-6\n",
    "SN=100\n",
    "Nrange=range(SN,SN*100)\n",
    "SNrange=range(10,SN,10) \n",
    "for k in SNrange:\n",
    "    Epsilon_nnconvex = [getConfidence_nonconvex(k,i,beta) for i in Nrange] \n",
    "    plt.plot(Nrange,Epsilon_nnconvex)   \n",
    "    \n",
    "plt.xlabel('Number of samples')\n",
    "plt.ylabel('$\\epsilon$')\n",
    "plt.grid(True) "
   ]
  },
  {
   "cell_type": "code",
   "execution_count": null,
   "metadata": {},
   "outputs": [],
   "source": [
    "beta=10**-6 \n",
    "SN=100\n",
    "Nrange=range(SN,SN*10)\n",
    "SNrange=range(10,SN,10) \n",
    "for k in SNrange: \n",
    "    Epsilon_lw=[] \n",
    "    Epsilon_up=[]\n",
    "    for i in Nrange: \n",
    "   # Out1 ,Out2 =  [getConfidence_relaxedConstraints(k,i,beta) for i in Nrange]  \n",
    "        Out1 ,Out2 =  getConfidence_relaxedConstraints(k,i,beta)\n",
    "        Epsilon_lw += [Out1]\n",
    "        Epsilon_up += [Out2]   \n",
    "    plt.plot(Nrange,Epsilon_lw,'b')\n",
    "    plt.plot(Nrange,Epsilon_up,'r')\n",
    "    \n",
    "plt.xlabel('Number of samples')\n",
    "plt.ylabel('$\\epsilon$')\n",
    "plt.grid(True) "
   ]
  },
  {
   "cell_type": "code",
   "execution_count": null,
   "metadata": {},
   "outputs": [],
   "source": []
  }
 ],
 "metadata": {
  "kernelspec": {
   "display_name": "Python 3",
   "language": "python",
   "name": "python3"
  },
  "language_info": {
   "codemirror_mode": {
    "name": "ipython",
    "version": 3
   },
   "file_extension": ".py",
   "mimetype": "text/x-python",
   "name": "python",
   "nbconvert_exporter": "python",
   "pygments_lexer": "ipython3",
   "version": "3.7.4"
  }
 },
 "nbformat": 4,
 "nbformat_minor": 2
}
