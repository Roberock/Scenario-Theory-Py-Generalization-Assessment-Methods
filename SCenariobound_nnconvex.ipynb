{
 "cells": [
  {
   "cell_type": "code",
   "execution_count": 1,
   "metadata": {},
   "outputs": [
    {
     "data": {
      "text/plain": [
       "0.104970477284552"
      ]
     },
     "execution_count": 1,
     "metadata": {},
     "output_type": "execute_result"
    }
   ],
   "source": [
    " \n",
    "def getConfidence_nonconvex(k,N,beta): \n",
    " # k= Number of support scenarios\n",
    " # N= Number of scenarios in the dataset\n",
    " # beta= s small confidence parameter (beta=10^-8 means high confidence level)\n",
    "\n",
    "    if k == N:\n",
    "        epsilon=1\n",
    "    elif k < N:\n",
    "    #  this is numerically  for high N and k\n",
    "    #   epsilon=1-(beta./(N.*nchoosek(N,k))).^(1/(N-k));\n",
    "    #  This expansion is slower but guarantees stability (and numerical accuracy)\n",
    "        E = (beta*k/N**2)**(1/(N-k))  \n",
    "        for l in range(k-1):\n",
    "            Temp = (1/((N-l)/(k-l)))**(1/(N-k))\n",
    "            E = E*Temp    \n",
    "            epsilon = 1-E\n",
    "   \n",
    "    elif k > N:\n",
    "        print('ERROR: numbber of support constraints k should be k<=N') \n",
    "    return epsilon\n",
    "\n",
    "\n",
    "N=10**6 # number of samples \n",
    "sn=22699 # number of support constraints\n",
    "beta=10**-8 # confidence parameter (small beta means almost cerainty)\n",
    "getConfidence_nonconvex(sn,N,beta)\n"
   ]
  },
  {
   "cell_type": "code",
   "execution_count": null,
   "metadata": {},
   "outputs": [],
   "source": [
    "import matplotlib.pyplot as plt\n",
    "import numpy as np\n",
    "beta=10**-8 \n",
    "SN=200\n",
    "Nrange=np.linspace(sn,sn*100,100)\n",
    "for k in range(10,sn,10):\n",
    "    Epsilon = [getConfidence_nonconvex(k,i,beta) for i in Nrange] \n",
    "    plt.plot(Nrange,Epsilon)   \n",
    "    \n",
    "plt.xlabel('Number of samples')\n",
    "plt.ylabel('$\\epsilon$')\n",
    "plt.grid(True) "
   ]
  },
  {
   "cell_type": "code",
   "execution_count": null,
   "metadata": {},
   "outputs": [],
   "source": []
  }
 ],
 "metadata": {
  "kernelspec": {
   "display_name": "Python 3",
   "language": "python",
   "name": "python3"
  },
  "language_info": {
   "codemirror_mode": {
    "name": "ipython",
    "version": 3
   },
   "file_extension": ".py",
   "mimetype": "text/x-python",
   "name": "python",
   "nbconvert_exporter": "python",
   "pygments_lexer": "ipython3",
   "version": "3.7.4"
  }
 },
 "nbformat": 4,
 "nbformat_minor": 2
}
