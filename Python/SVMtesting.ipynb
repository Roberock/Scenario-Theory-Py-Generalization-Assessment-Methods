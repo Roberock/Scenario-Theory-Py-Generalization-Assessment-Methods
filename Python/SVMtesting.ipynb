{
 "cells": [
  {
   "cell_type": "markdown",
   "metadata": {},
   "source": [
    "### SVM with generalization bounds"
   ]
  },
  {
   "cell_type": "code",
   "execution_count": null,
   "metadata": {},
   "outputs": [],
   "source": [
    "from sklearn import svm\n",
    "import ScenarioGeneralizationBounds as SBn\n",
    "import numpy as np\n",
    "import matplotlib.pyplot as plt\n",
    "\n",
    " # define a data-generating-mechanism (DGM) generates a set of instanes and classes\n",
    "def DGM(N1,rateo):\n",
    "    N2=round(N1*rateo) \n",
    "    mean12=[1,1]\n",
    "    mean34=[-4,-2]\n",
    "    cov12=[[1, 0.9], [0.9, 10]] \n",
    "    cov34=[[7, 0.1], [0.1, 1]] \n",
    "    x1 , x2 = np.random.multivariate_normal(mean12, cov12, N1).T\n",
    "    x3 , x4 = np.random.multivariate_normal(mean34, cov34, N2).T \n",
    "    x1=x2+x1**2\n",
    "    Xa=np.append(x1,x3)\n",
    "    Xb=np.append(x2,x4)\n",
    "    # Build data\n",
    "    X =  np.transpose([Xa, Xb]) # X of shape (n_samples, n_features)  \n",
    "    y =  np.append(np.zeros(N1), np.ones(N2))  \n",
    "    return X, y ,x1 , x2, x3, x4"
   ]
  },
  {
   "cell_type": "code",
   "execution_count": null,
   "metadata": {},
   "outputs": [],
   "source": [
    "# sample from the DGM\n",
    "Rateo=1\n",
    "N1=500\n",
    "X,y , x1 , x2, x3, x4 = DGM(N1,Rateo) \n",
    "# fit svm model\n",
    "clf = svm.SVC(kernel='poly', degree=3, gamma='auto', C=1.0)\n",
    "#clf = svm.SVC(kernel='linear', gamma=1, C=1.0)\n",
    "\n",
    "clf.fit(X, y)\n",
    "# plot the data and support vectors\n",
    "plt.grid(True)\n",
    "plt.scatter(x1,x2, facecolors='b', s=10)\n",
    "plt.scatter(x3,x4, facecolors='r',s=10)\n",
    "plt.scatter(clf.support_vectors_[:, 0], clf.support_vectors_[:, 1], s=30, facecolors='k', alpha=0.5  ,   zorder=10, edgecolors='w')\n",
    "plt.xlabel('X1')\n",
    "plt.ylabel('X2')"
   ]
  },
  {
   "cell_type": "markdown",
   "metadata": {},
   "source": [
    "### Scenario bound on the violation probability\n"
   ]
  },
  {
   "cell_type": "code",
   "execution_count": null,
   "metadata": {},
   "outputs": [],
   "source": [
    "N=np.size(y) #  number of samples \n",
    "Nsv=np.sum(clf.n_support_) #  number of support vectors\n",
    "print(\"Number of support vectors:\",Nsv)\n",
    "beta=10**-6 #  number parameter\n",
    "Lb,Ub =SBn.getepsilon_relaxedConstraints(Nsv,N,beta) #  get bounds on the probability of margin violation\n",
    "print(\"Upper bound on the Probability of miscalssification:\", Ub) "
   ]
  },
  {
   "cell_type": "markdown",
   "metadata": {},
   "source": [
    "### Verify bounds (MC samping from the DGM to approx the true probability of misclassification)"
   ]
  },
  {
   "cell_type": "code",
   "execution_count": null,
   "metadata": {},
   "outputs": [],
   "source": [
    "# def Validate_ScenarioBound() \n",
    "N1t=100000\n",
    "Xtst,ytst , x1t , x2t, x3t, x4t = DGM(N1t,Rateo)   \n",
    "ypred = clf.predict(Xtst) \n",
    "Pmisclass=np.mean(np.array([ytst!=ypred])) # MC estimate of the true pribability of misclassification\n",
    "if Pmisclass>Ub:\n",
    "    raise AssertionError()\n",
    "elif Pmisclass<=Ub:\n",
    "    print(\"Bound verified P_miscalssification <= Scenario-based upper bound:\" ,  Pmisclass, \"<=\", Ub) "
   ]
  },
  {
   "cell_type": "code",
   "execution_count": null,
   "metadata": {},
   "outputs": [],
   "source": [
    "def make_meshgrid(x, y, h=.02):\n",
    "    \"\"\"Create a mesh of points to plot in \n",
    "    Parameters\n",
    "    ----------\n",
    "    x: data to base x-axis meshgrid on\n",
    "    y: data to base y-axis meshgrid on\n",
    "    h: stepsize for meshgrid, optional \n",
    "    Returns\n",
    "    -------\n",
    "    xx, yy : ndarray\n",
    "    \"\"\"\n",
    "    x_min, x_max = x.min() - 1, x.max() + 1\n",
    "    y_min, y_max = y.min() - 1, y.max() + 1\n",
    "    xx, yy = np.meshgrid(np.arange(x_min, x_max, h), np.arange(y_min, y_max, h))\n",
    "    return xx, yy\n",
    " \n",
    "def plot_contours(ax, clf, xx, yy, **params):\n",
    "    \"\"\"Plot the decision boundaries for a classifier. \n",
    "    Parameters\n",
    "    ----------\n",
    "    ax: matplotlib axes object\n",
    "    clf: a classifier\n",
    "    xx: meshgrid ndarray\n",
    "    yy: meshgrid ndarray\n",
    "    params: dictionary of params to pass to contourf, optional\n",
    "    \"\"\"\n",
    "    Z = clf.predict(np.c_[xx.ravel(), yy.ravel()])\n",
    "    Z = Z.reshape(xx.shape)\n",
    "    out = ax.contourf(xx, yy, Z, **params)\n",
    "    return out\n"
   ]
  },
  {
   "cell_type": "markdown",
   "metadata": {},
   "source": [
    "### Plot  boundaries for different SVM models"
   ]
  },
  {
   "cell_type": "code",
   "execution_count": null,
   "metadata": {},
   "outputs": [],
   "source": [
    "# we create an instance of SVM and fit out data. \n",
    "# If we scale our data there might be an issue in plotting the support vectors.??\n",
    "\n",
    "C = 1.0  # SVM regularization parameter\n",
    "models = (svm.SVC(kernel='linear', C=C), \n",
    "          svm.SVC(kernel='rbf', gamma='auto', C=C),\n",
    "          svm.SVC(kernel='poly', degree=3, gamma='auto', C=C),\n",
    "          svm.SVC(kernel='poly', degree=4, gamma='auto', C=C))\n",
    "MODELS = [clf.fit(X, y) for clf in models]\n",
    "Nsv_models = [np.sum(clf.n_support_) for clf in MODELS] \n",
    " \n",
    "    \n",
    "# title for the plots\n",
    "titles = ('SVC, linear kernel', \n",
    "          'SVC, RBF kernel',\n",
    "          'SVC, polynomial (deg 3) kernel',\n",
    "          'SVC, polynomial (deg 4) kernel')\n",
    "# Set-up 2x2 grid for plotting.\n",
    "fig, sub = plt.subplots(2, 2)\n",
    "plt.subplots_adjust(wspace=0.4, hspace=0.4, )\n",
    "\n",
    "X0, X1 = X[:, 0], X[:, 1]\n",
    "xx, yy = make_meshgrid(X0, X1)\n",
    "\n",
    "for clf, title, ax in zip(MODELS, titles, sub.flatten()):\n",
    "    plot_contours(ax, clf, xx, yy,\n",
    "                  cmap=plt.cm.coolwarm, alpha=0.3)\n",
    "    ax.scatter(X0, X1, c=y, cmap=plt.cm.coolwarm, s=20, edgecolors='k')\n",
    "    ax.scatter(clf.support_vectors_[:, 0], clf.support_vectors_[:, 1], s=10,\n",
    "                facecolors=\"lightsteelblue\", zorder=10, edgecolors='none')\n",
    "    ax.set_xlim(xx.min(), xx.max())\n",
    "    ax.set_ylim(yy.min(), yy.max())\n",
    "    ax.set_xlabel('Sepal length')\n",
    "    ax.set_ylabel('Sepal width')\n",
    "    ax.set_xticks(())\n",
    "    ax.set_yticks(())\n",
    "    ax.set_title(title)\n",
    "\n",
    "plt.show()"
   ]
  },
  {
   "cell_type": "markdown",
   "metadata": {},
   "source": [
    "### Compute scenario-bounds for SVM trained with different kernels, validate bounds via MC sampling"
   ]
  },
  {
   "cell_type": "code",
   "execution_count": null,
   "metadata": {},
   "outputs": [],
   "source": [
    "\n",
    "for nsv,clf in zip(Nsv_models, MODELS):\n",
    "    print(\"Number of support vectors\", nsv)\n",
    "    Lb,Ub =SBn.getepsilon_relaxedConstraints(nsv,N,beta) #  get bounds on the probability of margin violation\n",
    "    N1t=100000 # samples for validation\n",
    "    Xtst,ytst , x1t , x2t, x3t, x4t = DGM(N1t,Rateo)   \n",
    "    ypred = clf.predict(Xtst)\n",
    "    Pmisclass=np.mean(np.array([ytst!=ypred])) # MC estimate of the true pribability of misclassification \n",
    "    if Pmisclass>Ub:\n",
    "          raise AssertionError()\n",
    "    elif Pmisclass<=Ub:\n",
    "         print(\"Bound verified P_miscalssification<=Scenario-based upper bound:\" ,  Pmisclass, \"<=\", Ub) "
   ]
  },
  {
   "cell_type": "code",
   "execution_count": null,
   "metadata": {},
   "outputs": [],
   "source": []
  },
  {
   "cell_type": "code",
   "execution_count": null,
   "metadata": {},
   "outputs": [],
   "source": []
  }
 ],
 "metadata": {
  "kernelspec": {
   "display_name": "Python 3",
   "language": "python",
   "name": "python3"
  },
  "language_info": {
   "codemirror_mode": {
    "name": "ipython",
    "version": 3
   },
   "file_extension": ".py",
   "mimetype": "text/x-python",
   "name": "python",
   "nbconvert_exporter": "python",
   "pygments_lexer": "ipython3",
   "version": "3.7.4"
  }
 },
 "nbformat": 4,
 "nbformat_minor": 2
}
