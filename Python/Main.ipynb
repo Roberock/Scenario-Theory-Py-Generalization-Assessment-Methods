{
 "cells": [
  {
   "cell_type": "code",
   "execution_count": 52,
   "metadata": {},
   "outputs": [],
   "source": [
    "import scipy as syp\n",
    "import scipy.special\n",
    "import numpy as np \n",
    "import ScenarioGeneralizationBounds as scbn\n"
   ]
  },
  {
   "cell_type": "markdown",
   "metadata": {},
   "source": [
    "# DEFINE BOUNDS FOR SCENARIO OPTIMIZATION PROGRAMS\n",
    "\n",
    "Condier a data set of N vector samples (Scenarios) of uncertain parameters\n",
    "$$\\mathcal{D}_N=\\{\\delta_1,...,\\delta_i,....,\\delta_N\\}$$ \n",
    "from a probability space $(\\mathbb{P},\\Delta,\\mathcal{F})$\n",
    "\n",
    "### A nn-convex scenario optimization program is \n",
    "$$\\langle d^* \\rangle=\\arg\\min_{d\\in\\Theta}  \\{J(d) : g(d,\\delta_i)\\leq 0,~ \\delta_i\\in \\mathcal{D}_N \\}$$\n",
    "where $J(d)$ is a cost function (possibly nonconvex), $g(d,\\delta_i)$ is a (possibly nonconvex) constraint funtion, each scenario imposeds a constraint in correspondance of the desing $d$, $d$ is a vector of desing variables constrained in a closed set \\Theta, $d^*$ is the optimized desing\n",
    " \n",
    "### Scenario generalization certificates give formal bound $\\epsilon$ on the violation probability defined as \n",
    "$$V(d^*)=\\mathbb{P}[\\delta \\in \\Delta: g(d,\\delta_i)> 0] $$\n",
    "$$\\mathbb{P}^N[V(d^*)<\\epsilon]\\geq 1-\\beta $$\n",
    "where $\\beta$ is a confidence level selected by the user (small $\\beta$ means almost certainty)\n",
    "\n",
    "For nonconvx problems the upper bound is a function $\\epsilon=f(N,\\beta,s_N^*)$ of the number of samples $N$, the coonfidence level $\\beta$ and the number of support scenarios $s_N^*$ in corresponance of the $d^*$ or a posteriori by enumerating \n",
    "the support constraints."
   ]
  },
  {
   "cell_type": "code",
   "execution_count": 2,
   "metadata": {},
   "outputs": [
    {
     "data": {
      "text/plain": [
       "0.020477063634298243"
      ]
     },
     "execution_count": 2,
     "metadata": {},
     "output_type": "execute_result"
    }
   ],
   "source": [
    "# EXAMPLE HOW TO USE\n",
    "N=10**5 # number of samples \n",
    "sn=300 # number of support constraints\n",
    "beta=10**-8 # confidence parameter (small beta means almost cerainty)\n",
    "scbn.getepsilon_nonconvex(sn,N,beta)"
   ]
  },
  {
   "cell_type": "code",
   "execution_count": 3,
   "metadata": {},
   "outputs": [],
   "source": [
    "import matplotlib.pyplot as plt \n",
    "beta=10**-6\n",
    "SN=100\n",
    "Nrange=range(SN,SN*100)\n",
    "SNrange=range(10,SN,10) \n",
    "for k in SNrange:\n",
    "    Epsilon_nnconvex = [scbn.getepsilon_nonconvex(k,i,beta) for i in Nrange] \n",
    "    plt.plot(Nrange,Epsilon_nnconvex)   \n",
    "    \n",
    "plt.xlabel('Number of samples')\n",
    "plt.ylabel('$\\epsilon$')\n",
    "plt.grid(True)  "
   ]
  },
  {
   "cell_type": "markdown",
   "metadata": {},
   "source": [
    "### A convex scenario optimization program with relaxed constraints\n",
    "$$\\langle d^* \\zeta^* \\rangle =\\arg\\min_{d\\in\\Theta,\\zeta_i\\geq 0} \\{J(d) + \\sum_i \\zeta_i: g(d,\\delta_i)\\leq \\zeta_i,~ \\delta_i\\in \\mathcal{D}_N  \\}$$ \n",
    "where $\\zeta^*$ is a vector of non-negative slack variables and $g(d,\\delta_i)$ and $J(d)$ are both convex in $d$\n",
    "\n",
    "### Scenario generalization certificates give formal bound $\\epsilon$ on the violation probability defined as \n",
    "$$V(d^*)=\\mathbb{P}[\\delta \\in \\Delta: g(d,\\delta_i)> 0] $$\n",
    "$$\\mathbb{P}^N[\\epsilon_l<V(d^*)<\\epsilon_{u}]\\geq 1-\\beta $$\n",
    "where $[\\epsilon_l,\\epsilon_u]$ are lower and upper bounds on the violation probability\n",
    "\n",
    "Each bound is a function $\\epsilon_i=f_i(N,\\beta,s_N^*)$ of the number of scenarios $N$ in the data set, \n",
    "the confidence level $\\beta$, and the number of support scenarios $s_N^*$, i.e., the number of samples $i$ leading to a $g(d^*,\\delta_i) \\geq 0 $"
   ]
  },
  {
   "cell_type": "code",
   "execution_count": 4,
   "metadata": {},
   "outputs": [
    {
     "name": "stdout",
     "output_type": "stream",
     "text": [
      "[0.6309844763295013, 0.6894254477459933]\n"
     ]
    }
   ],
   "source": [
    "# EXAMPLE HOW TO USE\n",
    "beta=10**-6 \n",
    "N=10000\n",
    "k=6610\n",
    "Out1 , Out2 = scbn.getepsilon_relaxedConstraints(k,N,beta)\n",
    "print([Out1,Out2])\n"
   ]
  },
  {
   "cell_type": "code",
   "execution_count": 51,
   "metadata": {},
   "outputs": [
    {
     "ename": "NameError",
     "evalue": "name 'plt' is not defined",
     "output_type": "error",
     "traceback": [
      "\u001b[1;31m---------------------------------------------------------------------------\u001b[0m",
      "\u001b[1;31mNameError\u001b[0m                                 Traceback (most recent call last)",
      "\u001b[1;32m<ipython-input-51-350dab5f5f45>\u001b[0m in \u001b[0;36m<module>\u001b[1;34m\u001b[0m\n\u001b[0;32m     11\u001b[0m         \u001b[0mEpsilon_lw\u001b[0m \u001b[1;33m+=\u001b[0m \u001b[1;33m[\u001b[0m\u001b[0mOut1\u001b[0m\u001b[1;33m]\u001b[0m\u001b[1;33m\u001b[0m\u001b[1;33m\u001b[0m\u001b[0m\n\u001b[0;32m     12\u001b[0m         \u001b[0mEpsilon_up\u001b[0m \u001b[1;33m+=\u001b[0m \u001b[1;33m[\u001b[0m\u001b[0mOut2\u001b[0m\u001b[1;33m]\u001b[0m\u001b[1;33m\u001b[0m\u001b[1;33m\u001b[0m\u001b[0m\n\u001b[1;32m---> 13\u001b[1;33m     \u001b[0mplt\u001b[0m\u001b[1;33m.\u001b[0m\u001b[0mplot\u001b[0m\u001b[1;33m(\u001b[0m\u001b[0mNrange\u001b[0m\u001b[1;33m,\u001b[0m\u001b[0mEpsilon_lw\u001b[0m\u001b[1;33m,\u001b[0m\u001b[1;34m'b'\u001b[0m\u001b[1;33m)\u001b[0m\u001b[1;33m\u001b[0m\u001b[1;33m\u001b[0m\u001b[0m\n\u001b[0m\u001b[0;32m     14\u001b[0m     \u001b[1;31m#plt.plot(Nrange,Epsilon_up,'r')\u001b[0m\u001b[1;33m\u001b[0m\u001b[1;33m\u001b[0m\u001b[1;33m\u001b[0m\u001b[0m\n\u001b[0;32m     15\u001b[0m \u001b[1;33m\u001b[0m\u001b[0m\n",
      "\u001b[1;31mNameError\u001b[0m: name 'plt' is not defined"
     ]
    }
   ],
   "source": [
    "beta=10**-6 \n",
    "SN=50\n",
    "Nrange=range(SN,SN*20,10) \n",
    "SNrange=range(10,SN,10) \n",
    "for k in SNrange: \n",
    "    Epsilon_lw=[] \n",
    "    Epsilon_up=[]\n",
    "    for i in Nrange: \n",
    "   # Out1 ,Out2 =  [getConfidence_relaxedConstraints(k,i,beta) for i in Nrange]  \n",
    "        Out1 ,Out2 =  scbn.getepsilon_relaxedConstraints(k,i,beta)\n",
    "        Epsilon_lw += [Out1]\n",
    "        Epsilon_up += [Out2]   \n",
    "    plt.plot(Nrange,Epsilon_lw,'b')\n",
    "    plt.plot(Nrange,Epsilon_up,'r')\n",
    "    \n",
    "plt.xlabel('Number of samples')\n",
    "plt.ylabel('$[\\epsilon,\\epsilon]$')\n",
    "plt.grid(True) "
   ]
  },
  {
   "cell_type": "markdown",
   "metadata": {},
   "source": [
    "### Bounds for convex scenario program with k scenario removed (sample and discard bouns)"
   ]
  },
  {
   "cell_type": "code",
   "execution_count": 6,
   "metadata": {},
   "outputs": [
    {
     "data": {
      "image/png": "[encoded data removed]",
      "text/plain": [
       "<Figure size 432x288 with 1 Axes>"
      ]
     },
     "metadata": {
      "needs_background": "light"
     },
     "output_type": "display_data"
    }
   ],
   "source": [
    "\n",
    "N=5000 #number of samples\n",
    "beta=10**-6 #confidence level\n",
    "Nd=2 # number of optimization variables \n",
    "Nrange=range(100,1500)#number of samples\n",
    "Krange=range(0,5) #nuber of samples removed from the data base\n",
    "for k in Krange:\n",
    "    Epsilon_convex_kremoved = [scbn.getepsilon_apriori_convex_discard(k,i,beta,Nd) for i in Nrange] \n",
    "    plt.plot(Nrange,Epsilon_convex_kremoved) \n",
    "    \n",
    "plt.xlabel('Number of samples')\n",
    "plt.ylabel('$\\epsilon$')\n",
    "plt.grid(True)  "
   ]
  },
  {
   "cell_type": "markdown",
   "metadata": {},
   "source": [
    "### Convex hard-constrained programs with discarded samples (a-priori)"
   ]
  },
  {
   "cell_type": "code",
   "execution_count": null,
   "metadata": {},
   "outputs": [],
   "source": [
    "N=1000 # Number of samples in the trainig set\n",
    "beta=10**-8  # confidence level\n",
    "Nd=15 # number of the design variables\n",
    "K=0 # number of discarded samples\n",
    "Epsilon=scbn.getepsilon_apriori_convex_discard(K,N,beta,50)\n",
    "print(\"A priori bound for\", Nd, \"dimensional convex hard-constrained program with\", K ,\" out of \", N, \"discarded samples is: \" ,   Epsilon) "
   ]
  },
  {
   "cell_type": "markdown",
   "metadata": {},
   "source": [
    "### Non-convex scenario programs (a-posteriori)"
   ]
  },
  {
   "cell_type": "code",
   "execution_count": 26,
   "metadata": {},
   "outputs": [
    {
     "name": "stdout",
     "output_type": "stream",
     "text": [
      "A priori bound for 15 supports, non-convex program with 1000 samples:  0.09492925204052283\n"
     ]
    }
   ],
   "source": [
    "Nsupports=15 # number of support samples\n",
    "Epsilon=scbn.getepsilon_nonconvex(Nsupports,N,beta)\n",
    "print(\"A priori bound for\", Nsupports, \"supports, non-convex program with\", N ,\"samples: \" ,   Epsilon) "
   ]
  },
  {
   "cell_type": "markdown",
   "metadata": {},
   "source": [
    "### Convex soft-constrained scenario programs (a-posteriori)"
   ]
  },
  {
   "cell_type": "code",
   "execution_count": 48,
   "metadata": {},
   "outputs": [
    {
     "name": "stdout",
     "output_type": "stream",
     "text": [
      "A priori bound for 15 supports, soft-constrained convex program with 500 samples:  (0, 0.1064671970210107)\n"
     ]
    }
   ],
   "source": [
    "Nsupports=15 # number of support samples\n",
    "Epsilon=scbn.getepsilon_relaxedConstraints(Nsupports,N,beta)\n",
    "print(\"A priori bound for\", Nsupports, \"supports, soft-constrained convex program with\", N ,\"samples: \" ,   Epsilon) "
   ]
  },
  {
   "cell_type": "markdown",
   "metadata": {},
   "source": [
    " ###  Convex hard-constrained scenario programs (a-posteriori Wait and Judge method)"
   ]
  },
  {
   "cell_type": "code",
   "execution_count": 47,
   "metadata": {},
   "outputs": [
    {
     "name": "stdout",
     "output_type": "stream",
     "text": [
      "A priori bound for 0 supports, hard-constrained convex program with 500 samples:  0.042030935757793486\n",
      "A priori bound for 1 supports, hard-constrained convex program with 500 samples:  0.046564903983380646\n",
      "A priori bound for 2 supports, hard-constrained convex program with 500 samples:  0.048655296268407255\n",
      "A priori bound for 3 supports, hard-constrained convex program with 500 samples:  0.04984041198622435\n",
      "A priori bound for 4 supports, hard-constrained convex program with 500 samples:  0.05065238394308835\n",
      "A priori bound for 5 supports, hard-constrained convex program with 500 samples:  0.05127713090041652\n",
      "A priori bound for 6 supports, hard-constrained convex program with 500 samples:  0.05179227900225669\n",
      "A priori bound for 7 supports, hard-constrained convex program with 500 samples:  0.05223617207957432\n",
      "A priori bound for 8 supports, hard-constrained convex program with 500 samples:  0.052630270016379654\n",
      "A priori bound for 9 supports, hard-constrained convex program with 500 samples:  0.05298772233072668\n",
      "A priori bound for 10 supports, hard-constrained convex program with 500 samples:  0.05331714701605961\n"
     ]
    }
   ],
   "source": [
    "Nsupports=10 # Number of support scenarios\n",
    "N=500 # number of data points (size of the data set)\n",
    "beta=10**-8 \n",
    "Out=scbn.getepsilon_aposteriori_convex_wej(Nsupports,N,beta)\n",
    "Epsilon=Out[-1]\n",
    "for i in range(0,Nsupports+1):\n",
    "    Out=scbn.getepsilon_aposteriori_convex_wej(i,N,beta)\n",
    "    Epsilon=Out[-1]\n",
    "    print(\"A posteriori bound for\", i, \"supports, hard-constrained convex program with\", N ,\"samples: \" ,   Epsilon) "
   ]
  },
  {
   "cell_type": "code",
   "execution_count": null,
   "metadata": {},
   "outputs": [],
   "source": []
  }
 ],
 "metadata": {
  "kernelspec": {
   "display_name": "Python 3",
   "language": "python",
   "name": "python3"
  },
  "language_info": {
   "codemirror_mode": {
    "name": "ipython",
    "version": 3
   },
   "file_extension": ".py",
   "mimetype": "text/x-python",
   "name": "python",
   "nbconvert_exporter": "python",
   "pygments_lexer": "ipython3",
   "version": "3.7.4"
  }
 },
 "nbformat": 4,
 "nbformat_minor": 2
}
