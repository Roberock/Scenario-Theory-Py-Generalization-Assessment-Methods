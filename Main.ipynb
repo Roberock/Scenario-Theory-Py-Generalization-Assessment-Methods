{
 "cells": [
  {
   "cell_type": "code",
   "execution_count": null,
   "metadata": {},
   "outputs": [],
   "source": [
    "import scipy as syp\n",
    "import scipy.special\n",
    "import numpy as np \n",
    "import ScenarioGeneralizationBounds as scbn"
   ]
  },
  {
   "cell_type": "markdown",
   "metadata": {},
   "source": [
    "# DEFINE BOUNDS FOR SCENARIO OPTIMIZATION PROGRAMS\n",
    "\n",
    "Condier a data set of N vector samples (Scenarios) of uncertain parameters\n",
    "$$\\mathcal{D}_N=\\{\\delta_1,...,\\delta_i,....,\\delta_N\\}$$ \n",
    "from a probability space $(\\mathbb{P},\\Delta,\\mathcal{F})$\n",
    "\n",
    "### A nn-convex scenario optimization program is \n",
    "$$\\langle d^* \\rangle=\\arg\\min_{d\\in\\Theta}  \\{J(d) : g(d,\\delta_i)\\leq 0,~ \\delta_i\\in \\mathcal{D}_N \\}$$\n",
    "where $J(d)$ is a cost function (possibly nonconvex), $g(d,\\delta_i)$ is a (possibly nonconvex) constraint funtion, each scenario imposeds a constraint in correspondance of the desing $d$, $d$ is a vector of desing variables constrained in a closed set \\Theta, $d^*$ is the optimized desing\n",
    " \n",
    "### Scenario generalization certificates give formal bound $\\epsilon$ on the violation probability defined as \n",
    "$$V(d^*)=\\mathbb{P}[\\delta \\in \\Delta: g(d,\\delta_i)> 0] $$\n",
    "$$\\mathbb{P}^N[V(d^*)<\\epsilon]\\geq 1-\\beta $$\n",
    "where $\\beta$ is a confidence level selected by the user (small $\\beta$ means almost certainty)\n",
    "\n",
    "For nonconvx problems the upper bound is a function $\\epsilon=f(N,\\beta,s_N^*)$ of the number of samples $N$, the coonfidence level $\\beta$ and the number of support scenarios $s_N^*$ in corresponance of the $d^*$ or a posteriori by enumerating \n",
    "the support constraints."
   ]
  },
  {
   "cell_type": "code",
   "execution_count": null,
   "metadata": {},
   "outputs": [],
   "source": [
    "# EXAMPLE HOW TO USE\n",
    "N=10**5 # number of samples \n",
    "sn=300 # number of support constraints\n",
    "beta=10**-8 # confidence parameter (small beta means almost cerainty)\n",
    "scbn.getepsilon_nonconvex(sn,N,beta)"
   ]
  },
  {
   "cell_type": "code",
   "execution_count": null,
   "metadata": {},
   "outputs": [],
   "source": [
    "import matplotlib.pyplot as plt \n",
    "beta=10**-6\n",
    "SN=100\n",
    "Nrange=range(SN,SN*100)\n",
    "SNrange=range(10,SN,10) \n",
    "for k in SNrange:\n",
    "    Epsilon_nnconvex = [scbn.getepsilon_nonconvex(k,i,beta) for i in Nrange] \n",
    "    plt.plot(Nrange,Epsilon_nnconvex)   \n",
    "    \n",
    "plt.xlabel('Number of samples')\n",
    "plt.ylabel('$\\epsilon$')\n",
    "plt.grid(True)  "
   ]
  },
  {
   "cell_type": "markdown",
   "metadata": {},
   "source": [
    "### A convex scenario optimization program with relaxed constraints\n",
    "$$\\langle d^* \\zeta^* \\rangle =\\arg\\min_{d\\in\\Theta,\\zeta_i\\geq 0} \\{J(d) + \\sum_i \\zeta_i: g(d,\\delta_i)\\leq \\zeta_i,~ \\delta_i\\in \\mathcal{D}_N  \\}$$ \n",
    "where zeta^* is a vector of non-negative slack variables\\\\\n",
    "and $g(d,\\delta_i)$ and $J(d)$ are both convex in $d$\n",
    "\n",
    "### Scenario generalization certificates give formal bound $\\epsilon$ on the violation probability defined as \n",
    "$$V(d^*)=\\mathbb{P}[\\delta \\in \\Delta: g(d,\\delta_i)> 0] $$\n",
    "$$\\mathbb{P}^N[\\epsilon_l<V(d^*)<\\epsilon_{u}]\\geq 1-\\beta $$\n",
    "where $[\\epsilon_l,\\epsilon_u]$ are lower and upper bounds on the violation probability\n",
    "\n",
    "Each bound is a function $\\epsilon_i=f_i(N,\\beta,s_N^*)$ of the number of scenarios $N$ in the data set, \n",
    "the confidence level $\\beta$, and the number of support scenarios $s_N^*$, i.e., the number of samples $i$ leading to a $g(d^*,\\delta_i) \\geq 0 $"
   ]
  },
  {
   "cell_type": "code",
   "execution_count": null,
   "metadata": {},
   "outputs": [],
   "source": [
    "# EXAMPLE HOW TO USE\n",
    "beta=10**-6 \n",
    "N=10000\n",
    "k=6610\n",
    "Out1 , Out2 = scbn.getepsilon_relaxedConstraints(k,N,beta)\n",
    "print([Out1,Out2])\n"
   ]
  },
  {
   "cell_type": "code",
   "execution_count": null,
   "metadata": {},
   "outputs": [],
   "source": [
    "beta=10**-6 \n",
    "SN=50\n",
    "Nrange=range(SN,SN*20,10) \n",
    "SNrange=range(10,SN,10) \n",
    "for k in SNrange: \n",
    "    Epsilon_lw=[] \n",
    "    Epsilon_up=[]\n",
    "    for i in Nrange: \n",
    "   # Out1 ,Out2 =  [getConfidence_relaxedConstraints(k,i,beta) for i in Nrange]  \n",
    "        Out1 ,Out2 =  scbn.getepsilon_relaxedConstraints(k,i,beta)\n",
    "        Epsilon_lw += [Out1]\n",
    "        Epsilon_up += [Out2]   \n",
    "    plt.plot(Nrange,Epsilon_lw,'b')\n",
    "    plt.plot(Nrange,Epsilon_up,'r')\n",
    "    \n",
    "plt.xlabel('Number of samples')\n",
    "plt.ylabel('$\\epsilon$')\n",
    "plt.grid(True) "
   ]
  },
  {
   "cell_type": "code",
   "execution_count": null,
   "metadata": {},
   "outputs": [],
   "source": []
  }
 ],
 "metadata": {
  "kernelspec": {
   "display_name": "Python 3",
   "language": "python",
   "name": "python3"
  },
  "language_info": {
   "codemirror_mode": {
    "name": "ipython",
    "version": 3
   },
   "file_extension": ".py",
   "mimetype": "text/x-python",
   "name": "python",
   "nbconvert_exporter": "python",
   "pygments_lexer": "ipython3",
   "version": "3.7.4"
  }
 },
 "nbformat": 4,
 "nbformat_minor": 2
}
